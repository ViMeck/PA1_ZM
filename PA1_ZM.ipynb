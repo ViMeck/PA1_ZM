{
 "cells": [
  {
   "cell_type": "markdown",
   "id": "f5544154",
   "metadata": {},
   "source": [
    "* Assignment 1\n",
    "* Zoe Mecklenburg\n",
    "* Version 1\n",
    "* Fall 2023"
   ]
  },
  {
   "cell_type": "markdown",
   "id": "27efce68",
   "metadata": {},
   "source": [
    "# Zoe Mecklenburg\n",
    "### Hello! I am a `Data Science major` and I enjoy creative problem solving. Whether its in a creative project like crocheting or drawing, or in classes with math and writing, I'll always enjoy that part of the process. \n",
    "* Programming Assignments\n",
    "* Quizzes\n",
    "* Attendance/In-class completed notebook submission\n",
    "* Mid-term Exam (2)\n",
    "* Project (2)\n",
    "1. Reading chapter 1 of Textbook\n",
    "2. Reading chapter 2 of Textbook and Assignment 1\n",
    "3. Reading Chapters 3,4, Assignment 2, and Quiz 1\n",
    "4. Reading Chapter 5, Assignment 3, and Quiz 2\n",
    "5. Reading Chapter 6 and Quiz 3\n",
    "6. Reading Chapter 7, Assignment 4, Quiz 4, and Project 1\n",
    "7. Reading Chapters 8,11 and Assignment 5\n",
    "8. Reading Chapter 9, 11, Assigment 6, Quiz 6 and Project 2\n",
    "9. Reading and Assignment 7\n",
    "**Programming**\n",
    "*Python*"
   ]
  },
  {
   "cell_type": "markdown",
   "id": "cf497b01",
   "metadata": {},
   "source": [
    "<a href=\"https://github.com/ViMeck/PA1_ZM\">my github link</a>"
   ]
  },
  {
   "cell_type": "markdown",
   "id": "7d93bdae",
   "metadata": {},
   "source": [
    "![Bellarmine Logo](https://www.bellarmine.edu/sf-images/default-source/marketing/bellarmine-maroon-university-752936.png)"
   ]
  },
  {
   "cell_type": "markdown",
   "id": "9e7e45fd",
   "metadata": {},
   "source": [
    "I learned how to use headers, bullet lists, numbered lists, highlight text, bold text and render links and images in this assignment."
   ]
  }
 ],
 "metadata": {
  "kernelspec": {
   "display_name": "Python 3 (ipykernel)",
   "language": "python",
   "name": "python3"
  },
  "language_info": {
   "codemirror_mode": {
    "name": "ipython",
    "version": 3
   },
   "file_extension": ".py",
   "mimetype": "text/x-python",
   "name": "python",
   "nbconvert_exporter": "python",
   "pygments_lexer": "ipython3",
   "version": "3.11.4"
  }
 },
 "nbformat": 4,
 "nbformat_minor": 5
}
